{
 "cells": [
  {
   "cell_type": "code",
   "execution_count": 1,
   "metadata": {},
   "outputs": [
    {
     "name": "stdout",
     "output_type": "stream",
     "text": [
      "Device opened successfully.\n"
     ]
    }
   ],
   "source": [
    "### Update my notebook with changes I do to my class \n",
    "import importlib\n",
    "import API.d128_controller\n",
    "importlib.reload(API.d128_controller)\n",
    "###\n",
    "\n",
    "from API.d128_controller import D128Controller\n",
    "\n",
    "# Simple example program to demonstrate control of D128\n",
    "\n",
    "# Initialize the D128Controller\n",
    "controller = D128Controller()\n",
    "\n",
    "# Open device and return status\n",
    "success, d128 = controller.D128ctrl('open')\n",
    "\n",
    "if success:\n",
    "    print(\"Device opened successfully.\")\n",
    "else:\n",
    "    print(\"Failed to open the device.\")"
   ]
  },
  {
   "cell_type": "code",
   "execution_count": 2,
   "metadata": {},
   "outputs": [
    {
     "name": "stdout",
     "output_type": "stream",
     "text": [
      "{'mode': 2, 'polarity': 1, 'source': 1, 'demand': 91, 'pulsewidth': 500, 'dwell': 500, 'recovery': 60, 'enabled': 1}\n"
     ]
    }
   ],
   "source": [
    "# Disable the device\n",
    "success, d128 = controller.D128ctrl('enable', d128, False)\n",
    "\n",
    "# Set paramters\n",
    "success, d128 = controller.D128ctrl('mode', d128, 'Bi-phasic')\n",
    "success, d128 = controller.D128ctrl('polarity', d128, 'Positive')\n",
    "success, d128 = controller.D128ctrl('source', d128, 'Internal')\n",
    "success, d128 = controller.D128ctrl('demand', d128, 9.1)\n",
    "success, d128 = controller.D128ctrl('pulsewidth', d128, 500)\n",
    "success, d128 = controller.D128ctrl('dwell', d128, 500)\n",
    "success, d128 = controller.D128ctrl('recovery', d128, 60)\n",
    "\n",
    "# Enable the device\n",
    "success, d128 = controller.D128ctrl('enable', d128, True)\n",
    "\n",
    "# Upload all parameters to the device\n",
    "success = controller.D128ctrl('upload', d128)\n",
    "\n",
    "# Download status from device\n",
    "success, d128 = controller.D128ctrl('status', d128)\n",
    "\n",
    "# Trigger the device\n",
    "success = controller.D128ctrl('trigger', d128)\n"
   ]
  },
  {
   "cell_type": "code",
   "execution_count": 178,
   "metadata": {},
   "outputs": [],
   "source": [
    "# Trigger the device\n",
    "success = controller.D128ctrl('trigger', d128)\n"
   ]
  },
  {
   "cell_type": "code",
   "execution_count": 156,
   "metadata": {},
   "outputs": [
    {
     "name": "stdout",
     "output_type": "stream",
     "text": [
      "{'mode': 2, 'polarity': 1, 'source': 1, 'demand': 100, 'pulsewidth': 500, 'dwell': 400, 'recovery': 50, 'enabled': 1}\n"
     ]
    }
   ],
   "source": [
    "# Download status from device\n",
    "success, d128 = controller.D128ctrl('status', d128)\n",
    "print(d128)  # Display the current state"
   ]
  }
 ],
 "metadata": {
  "kernelspec": {
   "display_name": "Python 3",
   "language": "python",
   "name": "python3"
  },
  "language_info": {
   "codemirror_mode": {
    "name": "ipython",
    "version": 3
   },
   "file_extension": ".py",
   "mimetype": "text/x-python",
   "name": "python",
   "nbconvert_exporter": "python",
   "pygments_lexer": "ipython3",
   "version": "3.11.9"
  }
 },
 "nbformat": 4,
 "nbformat_minor": 2
}
