{
 "cells": [
  {
   "cell_type": "code",
   "execution_count": 3,
   "metadata": {},
   "outputs": [
    {
     "name": "stdout",
     "output_type": "stream",
     "text": [
      "Device opened successfully.\n"
     ]
    }
   ],
   "source": [
    "### Update my notebook with changes I do to my class \n",
    "import importlib\n",
    "import API.d128_controller\n",
    "importlib.reload(API.d128_controller)\n",
    "###\n",
    "\n",
    "from API.d128_controller import D128Controller\n",
    "\n",
    "# Simple example program to demonstrate control of D128\n",
    "\n",
    "# Initialize the D128Controller\n",
    "controller = D128Controller()\n",
    "\n",
    "# Open device and return status\n",
    "success, d128 = controller.D128ctrl('open')\n",
    "\n",
    "if success:\n",
    "    print(\"Device opened successfully.\")\n",
    "else:\n",
    "    print(\"Failed to open the device.\")"
   ]
  },
  {
   "cell_type": "code",
   "execution_count": 4,
   "metadata": {},
   "outputs": [
    {
     "name": "stdout",
     "output_type": "stream",
     "text": [
      "{'mode': 2, 'polarity': 1, 'source': 1, 'demand': 91, 'pulsewidth': 500, 'dwell': 500, 'recovery': 60, 'enabled': 1}\n"
     ]
    }
   ],
   "source": [
    "# Disable the device\n",
    "success, d128 = controller.D128ctrl('enable', d128, False)\n",
    "\n",
    "# Set paramters\n",
    "success, d128 = controller.D128ctrl('mode', d128, 'Bi-phasic')\n",
    "success, d128 = controller.D128ctrl('polarity', d128, 'Positive')\n",
    "success, d128 = controller.D128ctrl('source', d128, 'Internal')\n",
    "success, d128 = controller.D128ctrl('demand', d128, 9.1)\n",
    "success, d128 = controller.D128ctrl('pulsewidth', d128, 500)\n",
    "success, d128 = controller.D128ctrl('dwell', d128, 500)\n",
    "success, d128 = controller.D128ctrl('recovery', d128, 60)\n",
    "\n",
    "# Enable the device\n",
    "success, d128 = controller.D128ctrl('enable', d128, True)\n",
    "\n",
    "# Upload all parameters to the device\n",
    "success = controller.D128ctrl('upload', d128)\n",
    "\n",
    "# Download status from device\n",
    "success, d128 = controller.D128ctrl('status', d128)\n",
    "\n",
    "# Trigger the device\n",
    "success = controller.D128ctrl('trigger', d128)\n"
   ]
  },
  {
   "cell_type": "code",
   "execution_count": 178,
   "metadata": {},
   "outputs": [],
   "source": [
    "# Trigger the device\n",
    "success = controller.D128ctrl('trigger', d128)\n"
   ]
  },
  {
   "cell_type": "code",
   "execution_count": 156,
   "metadata": {},
   "outputs": [
    {
     "name": "stdout",
     "output_type": "stream",
     "text": [
      "{'mode': 2, 'polarity': 1, 'source': 1, 'demand': 100, 'pulsewidth': 500, 'dwell': 400, 'recovery': 50, 'enabled': 1}\n"
     ]
    }
   ],
   "source": [
    "# Download status from device\n",
    "success, d128 = controller.D128ctrl('status', d128)\n",
    "print(d128)  # Display the current state"
   ]
  },
  {
   "cell_type": "code",
   "execution_count": 285,
   "metadata": {},
   "outputs": [
    {
     "name": "stdout",
     "output_type": "stream",
     "text": [
      "load successful :)\n"
     ]
    }
   ],
   "source": [
    "### Update my notebook with changes I do to my class \n",
    "import importlib\n",
    "import API.d188_controller\n",
    "importlib.reload(API.d188_controller)\n",
    "###\n",
    "\n",
    "from API.d188_controller import D188Controller\n",
    "\n",
    "Selector = D188Controller()\n",
    "Selector.Open()\n"
   ]
  },
  {
   "cell_type": "code",
   "execution_count": 286,
   "metadata": {},
   "outputs": [
    {
     "name": "stdout",
     "output_type": "stream",
     "text": [
      "{'D188_Mode': 0, 'D188_Select': 0, 'D188_Indicator': 1, 'D188_Delay': 1, 'D188_DeviceID': 127, 'D188_VersionID': 258, 'D188_Error': 0, 'DeviceCount': 1}\n",
      "{'D188_Mode': 1, 'D188_Select': 0, 'D188_Indicator': 1, 'D188_Delay': 1, 'D188_DeviceID': 127, 'D188_VersionID': 258, 'D188_Error': 0, 'DeviceCount': 1}\n",
      "{'D188_Mode': 1, 'D188_Select': 128, 'D188_Indicator': 1, 'D188_Delay': 1, 'D188_DeviceID': 127, 'D188_VersionID': 258, 'D188_Error': 0, 'DeviceCount': 1}\n"
     ]
    },
    {
     "data": {
      "text/plain": [
       "{'D188_Mode': 1,\n",
       " 'D188_Select': 128,\n",
       " 'D188_Indicator': 1,\n",
       " 'D188_Delay': 1,\n",
       " 'D188_DeviceID': 127,\n",
       " 'D188_VersionID': 258,\n",
       " 'D188_Error': 0,\n",
       " 'DeviceCount': 1}"
      ]
     },
     "execution_count": 286,
     "metadata": {},
     "output_type": "execute_result"
    }
   ],
   "source": [
    "\n",
    "#Selector.initialize()\n",
    "Selector.GetState()\n",
    "Selector.SetMode('USB')\n",
    "Selector.GetState()\n",
    "Selector.SetIndicator('ON')\n",
    "Selector.SetDelay(0.1)\n",
    "Selector.SetChannel(8)\n",
    "Selector.GetState()"
   ]
  },
  {
   "cell_type": "code",
   "execution_count": 287,
   "metadata": {},
   "outputs": [],
   "source": [
    "\n",
    "Selector.Close()"
   ]
  },
  {
   "cell_type": "code",
   "execution_count": 268,
   "metadata": {},
   "outputs": [
    {
     "name": "stdout",
     "output_type": "stream",
     "text": [
      "{'D188_Mode': 1, 'D188_Select': 4, 'D188_Indicator': 1, 'D188_Delay': 1, 'D188_DeviceID': 127, 'D188_VersionID': 258, 'D188_Error': 0, 'DeviceCount': 1}\n",
      "previous state: \n",
      "ERROR! couldnt update the D188. retError =  100002  and retAPIError =  0\n",
      "ERROR! couldnt update the D188. retError =  100002  and retAPIError =  0\n",
      "new state: \n",
      "ERROR! couldnt update the D188. retError =  100002  and retAPIError =  0\n",
      "{'D188_Mode': 1, 'D188_Select': 16, 'D188_Indicator': 1, 'D188_Delay': 1, 'D188_DeviceID': 127, 'D188_VersionID': 258, 'D188_Error': 0, 'DeviceCount': 1}\n"
     ]
    },
    {
     "data": {
      "text/plain": [
       "{'D188_Mode': 1,\n",
       " 'D188_Select': 16,\n",
       " 'D188_Indicator': 1,\n",
       " 'D188_Delay': 1,\n",
       " 'D188_DeviceID': 127,\n",
       " 'D188_VersionID': 258,\n",
       " 'D188_Error': 0,\n",
       " 'DeviceCount': 1}"
      ]
     },
     "execution_count": 268,
     "metadata": {},
     "output_type": "execute_result"
    }
   ],
   "source": [
    "Selector.GetState()\n",
    "print('previous state: ')\n",
    "Selector.SetMode('USB')\n",
    "Selector.SetChannel(5)\n",
    "print('new state: ')\n",
    "Selector.GetState()"
   ]
  }
 ],
 "metadata": {
  "kernelspec": {
   "display_name": ".venv",
   "language": "python",
   "name": "python3"
  },
  "language_info": {
   "codemirror_mode": {
    "name": "ipython",
    "version": 3
   },
   "file_extension": ".py",
   "mimetype": "text/x-python",
   "name": "python",
   "nbconvert_exporter": "python",
   "pygments_lexer": "ipython3",
   "version": "3.11.9"
  }
 },
 "nbformat": 4,
 "nbformat_minor": 2
}
