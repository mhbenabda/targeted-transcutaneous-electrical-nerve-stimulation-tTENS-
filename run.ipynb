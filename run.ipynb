{
 "cells": [
  {
   "cell_type": "code",
   "execution_count": 1,
   "metadata": {},
   "outputs": [
    {
     "name": "stdout",
     "output_type": "stream",
     "text": [
      "Device opened successfully.\n"
     ]
    }
   ],
   "source": [
    "### Update my notebook with changes I do to my class \n",
    "import importlib\n",
    "import API.d128_controller\n",
    "importlib.reload(API.d128_controller)\n",
    "###\n",
    "\n",
    "from API.d128_controller import D128Controller\n",
    "\n",
    "# Simple example program to demonstrate control of D128\n",
    "\n",
    "# Initialize the D128Controller\n",
    "controller = D128Controller()\n",
    "\n",
    "# Open device and return status\n",
    "success, d128 = controller.D128ctrl('open')\n",
    "\n",
    "if success:\n",
    "    print(\"Device opened successfully.\")\n",
    "else:\n",
    "    print(\"Failed to open the device.\")"
   ]
  },
  {
   "cell_type": "code",
   "execution_count": 2,
   "metadata": {},
   "outputs": [
    {
     "name": "stdout",
     "output_type": "stream",
     "text": [
      "{'mode': 2, 'polarity': 1, 'source': 1, 'demand': 50, 'pulsewidth': 500, 'dwell': 500, 'recovery': 60, 'enabled': 1}\n"
     ]
    }
   ],
   "source": [
    "# Disable the device\n",
    "success, d128 = controller.D128ctrl('enable', d128, False)\n",
    "\n",
    "# Set paramters\n",
    "success, d128 = controller.D128ctrl('mode', d128, 'Bi-phasic')\n",
    "success, d128 = controller.D128ctrl('polarity', d128, 'Positive')\n",
    "success, d128 = controller.D128ctrl('source', d128, 'Internal')\n",
    "success, d128 = controller.D128ctrl('demand', d128, 5)\n",
    "success, d128 = controller.D128ctrl('pulsewidth', d128, 500)\n",
    "success, d128 = controller.D128ctrl('dwell', d128, 500)\n",
    "success, d128 = controller.D128ctrl('recovery', d128, 60)\n",
    "\n",
    "# Enable the device\n",
    "success, d128 = controller.D128ctrl('enable', d128, True)\n",
    "\n",
    "# Upload all parameters to the device\n",
    "success = controller.D128ctrl('upload', d128)\n",
    "\n",
    "# Download status from device\n",
    "success, d128 = controller.D128ctrl('status', d128)\n",
    "\n",
    "# Trigger the device\n",
    "success = controller.D128ctrl('trigger', d128)\n"
   ]
  },
  {
   "cell_type": "code",
   "execution_count": 7,
   "metadata": {},
   "outputs": [],
   "source": [
    "# Trigger the device\n",
    "success = controller.D128ctrl('trigger', d128)\n"
   ]
  },
  {
   "cell_type": "code",
   "execution_count": 9,
   "metadata": {},
   "outputs": [
    {
     "name": "stdout",
     "output_type": "stream",
     "text": [
      "{'mode': 2, 'polarity': 1, 'source': 1, 'demand': 63, 'pulsewidth': 500, 'dwell': 500, 'recovery': 60, 'enabled': 1}\n"
     ]
    }
   ],
   "source": [
    "# Download status from device\n",
    "success, d128 = controller.D128ctrl('status', d128)\n",
    "print(d128)  # Display the current state"
   ]
  },
  {
   "cell_type": "code",
   "execution_count": 21,
   "metadata": {},
   "outputs": [
    {
     "name": "stdout",
     "output_type": "stream",
     "text": [
      "initilization successful ;)\n"
     ]
    }
   ],
   "source": [
    "### Update my notebook with I do changes to my class \n",
    "import importlib\n",
    "import API.ds8r_controller\n",
    "importlib.reload(API.ds8r_controller)\n",
    "###\n",
    "\n",
    "from API.ds8r_controller import DS8RController\n",
    "\n",
    "# Simple example program to demonstrate control of DS8R\n",
    "\n",
    "stimulator = DS8RController()\n",
    "\n",
    "stimulator.Load()\n",
    "stimulator.Initialize()"
   ]
  },
  {
   "cell_type": "code",
   "execution_count": 33,
   "metadata": {},
   "outputs": [
    {
     "name": "stdout",
     "output_type": "stream",
     "text": [
      "ERROR! couldnt update the D188. retError =  100002  and retAPIError =  0\n",
      "ERROR! couldnt update the D188. retError =  100002  and retAPIError =  0\n",
      "ERROR! couldnt update the D188. retError =  100002  and retAPIError =  0\n",
      "ERROR! couldnt update the D188. retError =  100002  and retAPIError =  0\n",
      "ERROR! couldnt update the D188. retError =  100002  and retAPIError =  0\n",
      "ERROR! couldnt update the D188. retError =  100002  and retAPIError =  0\n",
      "ERROR! couldnt update the D188. retError =  100002  and retAPIError =  0\n"
     ]
    }
   ],
   "source": [
    "stimulator.Cmd('mode', 'Bi-phasic')\n",
    "stimulator.Cmd('source', 'Internal')\n",
    "stimulator.Cmd('polarity', 'Negative')\n",
    "stimulator.Cmd('demand', 6)\n",
    "stimulator.Cmd('pulsewidth', 50)\n",
    "stimulator.Cmd('dwell', 10)\n",
    "stimulator.Cmd('recovery', 80)"
   ]
  },
  {
   "cell_type": "code",
   "execution_count": 101,
   "metadata": {},
   "outputs": [
    {
     "ename": "NameError",
     "evalue": "name 'stimulator' is not defined",
     "output_type": "error",
     "traceback": [
      "\u001b[1;31m---------------------------------------------------------------------------\u001b[0m",
      "\u001b[1;31mNameError\u001b[0m                                 Traceback (most recent call last)",
      "Cell \u001b[1;32mIn[101], line 1\u001b[0m\n\u001b[1;32m----> 1\u001b[0m \u001b[43mstimulator\u001b[49m\u001b[38;5;241m.\u001b[39mClose()\n",
      "\u001b[1;31mNameError\u001b[0m: name 'stimulator' is not defined"
     ]
    }
   ],
   "source": [
    "stimulator.Close()"
   ]
  },
  {
   "cell_type": "code",
   "execution_count": 3,
   "metadata": {},
   "outputs": [
    {
     "name": "stdout",
     "output_type": "stream",
     "text": [
      "{'mode': 2, 'polarity': 1, 'source': 1, 'demand': 40, 'pulsewidth': 500, 'dwell': 500, 'recovery': 60, 'enabled': 1}\n"
     ]
    },
    {
     "data": {
      "text/plain": [
       "True"
      ]
     },
     "execution_count": 3,
     "metadata": {},
     "output_type": "execute_result"
    }
   ],
   "source": [
    "    # Set paramters\n",
    "success, d128 = controller.D128ctrl('mode', d128, 'Bi-phasic')\n",
    "success, d128 = controller.D128ctrl('polarity', d128, 'Positive')\n",
    "success, d128 = controller.D128ctrl('source', d128, 'Internal')\n",
    "success, d128 = controller.D128ctrl('demand', d128, 4)\n",
    "success, d128 = controller.D128ctrl('pulsewidth', d128, 500)\n",
    "success, d128 = controller.D128ctrl('dwell', d128, 500)\n",
    "success, d128 = controller.D128ctrl('recovery', d128, 60)\n",
    "\n",
    "# Enable the device\n",
    "success, d128 = controller.D128ctrl('enable', d128, True)\n",
    "\n",
    "# Upload all parameters to the device\n",
    "success = controller.D128ctrl('upload', d128)\n",
    "\n",
    "# Download status from device\n",
    "success, d128 = controller.D128ctrl('status', d128)\n",
    "\n",
    "controller.Close()"
   ]
  },
  {
   "cell_type": "code",
   "execution_count": 5,
   "metadata": {},
   "outputs": [
    {
     "name": "stdout",
     "output_type": "stream",
     "text": [
      "D188 load successful :)\n",
      "D188 init successfully\n",
      "D188 channel update successfully\n",
      "{'D188_Mode': 1, 'D188_Select': 16, 'D188_Indicator': 1, 'D188_Delay': 10, 'D188_DeviceID': 127, 'D188_VersionID': 258, 'D188_Error': 0, 'DeviceCount': 1}\n",
      "D188 DLL unloaded successfully.\n"
     ]
    }
   ],
   "source": [
    "### Update my notebook with I do changes to my class \n",
    "import importlib\n",
    "import API.d188_controller\n",
    "importlib.reload(API.d188_controller)\n",
    "###\n",
    "import time\n",
    "from API.d188_controller import D188Controller\n",
    "\n",
    "Selector = D188Controller()\n",
    "Selector.Load()\n",
    "Selector.Initialize()\n",
    "time.sleep(0.1)\n",
    "Selector.SetMode('USB')\n",
    "time.sleep(0.1)\n",
    "Selector.SetIndicator('ON')\n",
    "time.sleep(0.1)\n",
    "Selector.SetDelay(1) # can go as short as 0.1ms, but now 1 for safety\n",
    "time.sleep(0.1)\n",
    "Selector.SetChannel(5)\n",
    "time.sleep(0.1)\n",
    "Selector.GetState()\n",
    "time.sleep(0.1)\n",
    "Selector.Close\n",
    "time.sleep(0.1)\n",
    "Selector.Unload()"
   ]
  },
  {
   "cell_type": "code",
   "execution_count": null,
   "metadata": {},
   "outputs": [
    {
     "name": "stdout",
     "output_type": "stream",
     "text": [
      "D188 init successfully\n",
      "-1391847312\n",
      "{'D188_Mode': 1, 'D188_Select': 128, 'D188_Indicator': 1, 'D188_Delay': 10, 'D188_DeviceID': 127, 'D188_VersionID': 258, 'D188_Error': 0, 'DeviceCount': 1}\n",
      "ERROR! couldnt update the D188. retError =  100021  and retAPIError =  0\n",
      "D188 channel update successfully\n"
     ]
    },
    {
     "data": {
      "text/plain": [
       "<bound method D188Controller.Close of <API.d188_controller.D188Controller object at 0x0000022BACB0B650>>"
      ]
     },
     "execution_count": 50,
     "metadata": {},
     "output_type": "execute_result"
    }
   ],
   "source": [
    "Selector.Initialize()\n",
    "print(Selector.apiRef.value)\n",
    "time.sleep(0.1)\n",
    "Selector.GetState()\n",
    "time.sleep(0.1)\n",
    "Selector.SetMode('USB')\n",
    "time.sleep(0.1)\n",
    "Selector.SetChannel(8)\n",
    "time.sleep(0.1)\n",
    "Selector.Close"
   ]
  },
  {
   "cell_type": "code",
   "execution_count": null,
   "metadata": {},
   "outputs": [
    {
     "name": "stdout",
     "output_type": "stream",
     "text": [
      "{'D188_Mode': 1, 'D188_Select': 2, 'D188_Indicator': 1, 'D188_Delay': 10, 'D188_DeviceID': 127, 'D188_VersionID': 258, 'D188_Error': 0, 'DeviceCount': 1}\n",
      "{'D188_Mode': 1, 'D188_Select': 2, 'D188_Indicator': 1, 'D188_Delay': 10, 'D188_DeviceID': 127, 'D188_VersionID': 258, 'D188_Error': 0, 'DeviceCount': 1}\n",
      "D188 channel update successfully\n",
      "{'D188_Mode': 1, 'D188_Select': 64, 'D188_Indicator': 1, 'D188_Delay': 10, 'D188_DeviceID': 127, 'D188_VersionID': 258, 'D188_Error': 0, 'DeviceCount': 1}\n"
     ]
    },
    {
     "data": {
      "text/plain": [
       "{'D188_Mode': 1,\n",
       " 'D188_Select': 64,\n",
       " 'D188_Indicator': 1,\n",
       " 'D188_Delay': 10,\n",
       " 'D188_DeviceID': 127,\n",
       " 'D188_VersionID': 258,\n",
       " 'D188_Error': 0,\n",
       " 'DeviceCount': 1}"
      ]
     },
     "execution_count": 121,
     "metadata": {},
     "output_type": "execute_result"
    }
   ],
   "source": [
    "Selector.SetMode('USB')\n",
    "Selector.SetIndicator('ON')\n",
    "Selector.SetDelay(1) # can go as short as 0.1ms, but now 1 for safety\n",
    "Selector.SetChannel(7)\n",
    "Selector.GetState()"
   ]
  },
  {
   "cell_type": "code",
   "execution_count": 24,
   "metadata": {},
   "outputs": [
    {
     "ename": "AttributeError",
     "evalue": "'NoneType' object has no attribute 'DGD188_Close'",
     "output_type": "error",
     "traceback": [
      "\u001b[1;31m---------------------------------------------------------------------------\u001b[0m",
      "\u001b[1;31mAttributeError\u001b[0m                            Traceback (most recent call last)",
      "Cell \u001b[1;32mIn[24], line 1\u001b[0m\n\u001b[1;32m----> 1\u001b[0m \u001b[43mSelector\u001b[49m\u001b[38;5;241;43m.\u001b[39;49m\u001b[43mClose\u001b[49m\u001b[43m(\u001b[49m\u001b[43m)\u001b[49m\n",
      "File \u001b[1;32mc:\\Users\\Pupparello\\Desktop\\Habib\\tTENS_software\\API\\d188_controller.py:262\u001b[0m, in \u001b[0;36mD188Controller.Close\u001b[1;34m(self)\u001b[0m\n\u001b[0;32m    259\u001b[0m \u001b[38;5;28;01mif\u001b[39;00m \u001b[38;5;28mhasattr\u001b[39m(\u001b[38;5;28mself\u001b[39m, \u001b[38;5;124m'\u001b[39m\u001b[38;5;124mlib\u001b[39m\u001b[38;5;124m'\u001b[39m):\n\u001b[0;32m    260\u001b[0m     \u001b[38;5;28;01mif\u001b[39;00m \u001b[38;5;28mself\u001b[39m\u001b[38;5;241m.\u001b[39mapiRef\u001b[38;5;241m.\u001b[39mvalue:\n\u001b[0;32m    261\u001b[0m         \u001b[38;5;66;03m#self.SetMode('OFF')\u001b[39;00m\n\u001b[1;32m--> 262\u001b[0m         \u001b[38;5;28mself\u001b[39m\u001b[38;5;241m.\u001b[39mretError \u001b[38;5;241m=\u001b[39m \u001b[38;5;28;43mself\u001b[39;49m\u001b[38;5;241;43m.\u001b[39;49m\u001b[43mlib\u001b[49m\u001b[38;5;241;43m.\u001b[39;49m\u001b[43mDGD188_Close\u001b[49m(byref(\u001b[38;5;28mself\u001b[39m\u001b[38;5;241m.\u001b[39mapiRef), byref(\u001b[38;5;28mself\u001b[39m\u001b[38;5;241m.\u001b[39mretAPIError), \u001b[38;5;28;01mNone\u001b[39;00m, \u001b[38;5;28;01mNone\u001b[39;00m)\n\u001b[0;32m    263\u001b[0m         \u001b[38;5;28mprint\u001b[39m(\u001b[38;5;124m'\u001b[39m\u001b[38;5;124mD188 closed successfully\u001b[39m\u001b[38;5;124m'\u001b[39m)\n\u001b[0;32m    264\u001b[0m     \u001b[38;5;28;01melse\u001b[39;00m:\n",
      "\u001b[1;31mAttributeError\u001b[0m: 'NoneType' object has no attribute 'DGD188_Close'"
     ]
    }
   ],
   "source": [
    "\n",
    "Selector.Close()"
   ]
  },
  {
   "cell_type": "code",
   "execution_count": null,
   "metadata": {},
   "outputs": [
    {
     "name": "stdout",
     "output_type": "stream",
     "text": [
      "D188 init successfully\n",
      "ERROR! couldnt update the D188. retError =  100021  and retAPIError =  0\n",
      "D188 channel update successfully\n",
      "D188 closed successfully\n"
     ]
    }
   ],
   "source": [
    "Selector.Initialize()\n",
    "Selector.SetChannel(1)\n",
    "Selector.Close()"
   ]
  },
  {
   "cell_type": "code",
   "execution_count": 2,
   "metadata": {},
   "outputs": [
    {
     "name": "stdout",
     "output_type": "stream",
     "text": [
      "Digitimer Limited\n",
      "Python D188 Example\n",
      "D188 State:\n",
      "Header.DeviceCount =  1\n",
      "State.DeviceID =  127\n",
      "State.VersionID =  258\n",
      "State.Error =  0\n",
      "State.D188_State.D188_Mode =  1\n",
      "State.D188_State.D188_Select =  1\n",
      "State.D188_State.D188_Indicator =  1\n",
      "State.D188_State.D188_Delay =  0\n",
      "Finished\n"
     ]
    }
   ],
   "source": [
    "# ------------------------------------------------------------------------------\n",
    "# Digitimer Limited\n",
    "# D188 Python Example (Python version 3.7.2)\n",
    "# This file demonstrates how it is possible to connect to the D188API dll and pass\n",
    "# state information to the connected device.\n",
    "# Limitations:\n",
    "# 1: All API calls are blocking.\n",
    "# 2: Only a single device is managed\n",
    "# 3: No error management or reporting is performed.\n",
    "# 4: All declarations are within a single file \n",
    "# ------------------------------------------------------------------------------\n",
    "from ctypes import *\n",
    "from sys import *\n",
    "# ------------------------------------------------------------------------------\n",
    "# declare D188 parameter constants\n",
    "D188_MODE_OFF = 0\n",
    "D188_MODE_USB = 1\n",
    "D188_MODE_1OF8 = 2\n",
    "D188_MODE_4TO8 = 3\n",
    "\n",
    "\n",
    "D188_SELECT_OFF = 0\n",
    "D188_SELECT_CH1 = 1\n",
    "D188_SELECT_CH2 = 2\n",
    "D188_SELECT_CH3 = 4\n",
    "D188_SELECT_CH4 = 8\n",
    "D188_SELECT_CH5 = 16\n",
    "D188_SELECT_CH6 = 32\n",
    "D188_SELECT_CH7 = 64\n",
    "D188_SELECT_CH8 = 128\n",
    "\n",
    "\n",
    "D188_INDICATOR_ON = 1\n",
    "D188_INDICATOR_OFF = 0\n",
    "\n",
    "\n",
    "# ------------------------------------------------------------------------------\n",
    "# Declare D188 classes \n",
    "class D188STATE(Structure):\n",
    "    _fields_ = [\n",
    "        (\"D188_Mode\", c_ubyte),\n",
    "        (\"D188_Select\", c_ubyte),\n",
    "        (\"D188_Indicator\", c_ubyte),\n",
    "        (\"D188_Delay\", c_ushort)\n",
    "    ]\n",
    "\n",
    "\n",
    "class D188DEVICESTATE(Structure):\n",
    "    _fields_ = [\n",
    "        (\"D188_DeviceID\", c_uint),\n",
    "        (\"D188_VersionID\", c_uint),\n",
    "        (\"D188_Error\", c_int),\n",
    "        (\"D188_State\", D188STATE)\n",
    "    ]\n",
    "\n",
    "\n",
    "class DEVHDR(Structure):\n",
    "    _fields_ = [\n",
    "        (\"DeviceCount\", c_int),\n",
    "    ]\n",
    "\n",
    "\n",
    "class D188(Structure):\n",
    "    _fields_ = [\n",
    "        (\"Header\",DEVHDR),\n",
    "        (\"STATE\",D188DEVICESTATE) \n",
    "    ]\n",
    "\n",
    "\n",
    "# ------------------------------------------------------------------------------\n",
    "# Declare DLL API function and associated parameters\n",
    "hDGD188Api = WinDLL(\"DGD188API.DLL\")\n",
    "\n",
    "\n",
    "protoDGD188_Initialise = WINFUNCTYPE (\n",
    "    c_int,       #Function result\n",
    "    c_void_p,    #Instance Reference\n",
    "    c_void_p,    #Initialise Result\n",
    "    c_int,       #Callback pointer (not used MUST be 0)\n",
    "    c_int        #Callback parameters (not used MUST be 0)\n",
    "    )\n",
    "\n",
    "\n",
    "protoDGD188_Update = WINFUNCTYPE (\n",
    "    c_int,       #Function result\n",
    "    c_int,       #Instance Reference\n",
    "    c_void_p,    #Update Result\n",
    "    c_void_p,    #NewState\n",
    "    c_int,       #cbNewState\n",
    "    c_void_p,    #CurrentState\n",
    "    c_void_p,    #cbCurrentState\n",
    "    c_int,       #Callback pointer (not used MUST be 0)\n",
    "    c_int        #Callback parameters (not used MUST be 0)\n",
    "    )\n",
    "\n",
    "\n",
    "protoDGD188_Close = WINFUNCTYPE (\n",
    "    c_int,       #Function result\n",
    "    c_void_p,    #Instance Reference\n",
    "    c_void_p,    #Close Result\n",
    "    c_int,       #Callback pointer (not used MUST be 0)\n",
    "    c_int        #Callback parameters (not used MUST be 0)\n",
    "    )\n",
    "\n",
    "\n",
    "paramsDGD188_Initialise = (1,\"Reference\",0),(1,\"InitResult\",0),(1,\"CallbackProc\",0),(1,\"CallbackParam\",0),\n",
    "paramsDGD188_Update =  (1,\"Reference\",0),(1,\"updateResult\",0),(1,\"NewState\",0),(1,\"cbNewState\",0),(1,\"CurrentState\",0),(1,\"cbCurrentState\",0),(1,\"CallbackProc\",0),(1,\"CallbackParam\",0),\n",
    "paramsDGD188_Close =  (1,\"Reference\",0),(1,\"CloseResult\",0),(1,\"CallbackProc\",0),(1,\"CallbackParam\",0),\n",
    "\n",
    "\n",
    "DGD188_Initialise = protoDGD188_Initialise((\"DGD188_Initialise\",hDGD188Api), paramsDGD188_Initialise)\n",
    "DGD188_Update = protoDGD188_Update((\"DGD188_Update\",hDGD188Api), paramsDGD188_Update)\n",
    "DGD188_Close = protoDGD188_Close((\"DGD188_Close\",hDGD188Api), paramsDGD188_Close)\n",
    "\n",
    "\n",
    "\n",
    "\n",
    "# ------------------------------------------------------------------------------\n",
    "# Helper function to display the state of the D188 object.\n",
    "def PrintD188State(STATE):\n",
    "    \"Print the contents of the D188 STATE passed\"\n",
    "    print(\"D188 State:\")\n",
    "    print(\"Header.DeviceCount = \" , STATE.Header.DeviceCount)\n",
    "    print(\"State.DeviceID = \" , STATE.STATE.D188_DeviceID)\n",
    "    print(\"State.VersionID = \", STATE.STATE.D188_VersionID)\n",
    "    print(\"State.Error = \", STATE.STATE.D188_Error)\n",
    "    print(\"State.D188_State.D188_Mode = \",STATE.STATE.D188_State.D188_Mode)\n",
    "    print(\"State.D188_State.D188_Select = \",STATE.STATE.D188_State.D188_Select)\n",
    "    print(\"State.D188_State.D188_Indicator = \",STATE.STATE.D188_State.D188_Indicator)\n",
    "    print(\"State.D188_State.D188_Delay = \",STATE.STATE.D188_State.D188_Delay)\n",
    "\n",
    "\n",
    "# ------------------------------------------------------------------------------\n",
    "# Must be the first function called to initialise the D188 stack and return an\n",
    "# instance reference.\n",
    "def D188Initialise(Reference):\n",
    "    \"Initialise the D188 control stack and return an instance reference.\"\n",
    "    iRes = c_int(0)\n",
    "    return DGD188_Initialise(byref(Reference), byref(iRes), 0,0)\n",
    "\n",
    "\n",
    "# ------------------------------------------------------------------------------\n",
    "# Called once D188 has been finished with. It is advisable to hold on to the\n",
    "# refernce until the end of the program\n",
    "def D188Close(Reference):\n",
    "    \"Close and free all resources associated with the instance reference.\"\n",
    "    CloseResult = c_int(0)\n",
    "    DGD188_Close(byref(Reference), byref(CloseResult), 0,0)\n",
    "\n",
    "\n",
    "# ------------------------------------------------------------------------------\n",
    "# Simple helper to return the current state of the connected D188\n",
    "def D188UpdateGet(Reference, STATE):\n",
    "    \"Fetch the current state associated with the supplied instance reference.\"\n",
    "    iRes = c_int(0)\n",
    "    _STATE = D188()\n",
    "    _cbSTATE = c_int(getsizeof(_STATE))\n",
    "    DGD188_Update(Reference, byref(iRes), 0, 0, byref(_STATE), byref(_cbSTATE), 0,0)\n",
    "    STATE.Header = _STATE.Header\n",
    "    STATE.STATE = _STATE.STATE\n",
    "\n",
    "\n",
    "# ------------------------------------------------------------------------------\n",
    "# takes an object of type D188 and updates the connected device to match the state\n",
    "def D188UpdateSet(Reference, STATE):\n",
    "    \"Apply the supplied state to the D188 devices associated with the instance reference.\"\n",
    "    iRes = c_int(0)\n",
    "    _STATE = D188()\n",
    "    _cbSTATE = c_int(getsizeof(_STATE))\n",
    "    _STATE.Header = STATE.Header\n",
    "    _STATE.STATE = STATE.STATE\n",
    "    DGD188_Update(Reference, byref(iRes), byref(_STATE), _cbSTATE, 0, 0, 0,0)\n",
    "\n",
    "\n",
    "# ------------------------------------------------------------------------------\n",
    "# Simple helper function that simply allows direct setting of the parameters of\n",
    "# the first D188 connected.\n",
    "def D188SimpleSet(Reference, Mode, Select, Indicator, Delay):\n",
    "    \"Simple helper function to set all parameters of the D188\"\n",
    "    STATE = D188()\n",
    "    D188UpdateGet(Reference, STATE)\n",
    "    STATE.STATE.D188_State.D188_Mode = c_ubyte(Mode)\n",
    "    STATE.STATE.D188_State.D188_Select = c_ubyte(Select)\n",
    "    STATE.STATE.D188_State.D188_Indicator = c_ubyte(Indicator)\n",
    "    STATE.STATE.D188_State.D188_Delay= c_ushort(Delay)\n",
    "    D188UpdateSet(Reference, STATE)\n",
    "\n",
    "\n",
    "print(\"Digitimer Limited\")\n",
    "print(\"Python D188 Example\")\n",
    "#The instance reference must be of type c_int (apparently!)\n",
    "D188Ref = c_int(0) \n",
    "#Create a reference to the D188 system\n",
    "D188Initialise(D188Ref)\n",
    "#Change the state of the D188\n",
    "D188SimpleSet(D188Ref, D188_MODE_USB, D188_SELECT_CH1, D188_INDICATOR_ON, 0)\n",
    "\n",
    "\n",
    "#Example of how to get the current device state for the D188\n",
    "STATE = D188()\n",
    "D188UpdateGet(D188Ref, STATE)\n",
    "PrintD188State(STATE)\n",
    "\n",
    "\n",
    "#Not strictly necessary as the API will close all references once the program has  terminated\n",
    "D188Close(D188Ref)\n",
    "\n",
    "\n",
    "print(\"Finished\")\n"
   ]
  }
 ],
 "metadata": {
  "kernelspec": {
   "display_name": ".venv",
   "language": "python",
   "name": "python3"
  },
  "language_info": {
   "codemirror_mode": {
    "name": "ipython",
    "version": 3
   },
   "file_extension": ".py",
   "mimetype": "text/x-python",
   "name": "python",
   "nbconvert_exporter": "python",
   "pygments_lexer": "ipython3",
   "version": "3.11.9"
  }
 },
 "nbformat": 4,
 "nbformat_minor": 2
}
