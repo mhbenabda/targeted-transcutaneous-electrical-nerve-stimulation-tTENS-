{
 "cells": [
  {
   "cell_type": "code",
   "execution_count": 1,
   "metadata": {},
   "outputs": [
    {
     "name": "stdout",
     "output_type": "stream",
     "text": [
      "Device opened successfully.\n"
     ]
    }
   ],
   "source": [
    "### Update my notebook with changes I do to my class \n",
    "import importlib\n",
    "import API.d128_controller\n",
    "importlib.reload(API.d128_controller)\n",
    "###\n",
    "\n",
    "from API.d128_controller import D128Controller\n",
    "\n",
    "# Simple example program to demonstrate control of D128\n",
    "\n",
    "# Initialize the D128Controller\n",
    "controller = D128Controller()\n",
    "\n",
    "# Open device and return status\n",
    "success, d128 = controller.D128ctrl('open')\n",
    "\n",
    "if success:\n",
    "    print(\"Device opened successfully.\")\n",
    "else:\n",
    "    print(\"Failed to open the device.\")"
   ]
  },
  {
   "cell_type": "code",
   "execution_count": 2,
   "metadata": {},
   "outputs": [
    {
     "name": "stdout",
     "output_type": "stream",
     "text": [
      "{'mode': 2, 'polarity': 1, 'source': 1, 'demand': 50, 'pulsewidth': 500, 'dwell': 500, 'recovery': 60, 'enabled': 1}\n"
     ]
    }
   ],
   "source": [
    "# Disable the device\n",
    "success, d128 = controller.D128ctrl('enable', d128, False)\n",
    "\n",
    "# Set paramters\n",
    "success, d128 = controller.D128ctrl('mode', d128, 'Bi-phasic')\n",
    "success, d128 = controller.D128ctrl('polarity', d128, 'Positive')\n",
    "success, d128 = controller.D128ctrl('source', d128, 'Internal')\n",
    "success, d128 = controller.D128ctrl('demand', d128, 5)\n",
    "success, d128 = controller.D128ctrl('pulsewidth', d128, 500)\n",
    "success, d128 = controller.D128ctrl('dwell', d128, 500)\n",
    "success, d128 = controller.D128ctrl('recovery', d128, 60)\n",
    "\n",
    "# Enable the device\n",
    "success, d128 = controller.D128ctrl('enable', d128, True)\n",
    "\n",
    "# Upload all parameters to the device\n",
    "success = controller.D128ctrl('upload', d128)\n",
    "\n",
    "# Download status from device\n",
    "success, d128 = controller.D128ctrl('status', d128)\n",
    "\n",
    "# Trigger the device\n",
    "success = controller.D128ctrl('trigger', d128)\n"
   ]
  },
  {
   "cell_type": "code",
   "execution_count": 7,
   "metadata": {},
   "outputs": [],
   "source": [
    "# Trigger the device\n",
    "success = controller.D128ctrl('trigger', d128)\n"
   ]
  },
  {
   "cell_type": "code",
   "execution_count": 9,
   "metadata": {},
   "outputs": [
    {
     "name": "stdout",
     "output_type": "stream",
     "text": [
      "{'mode': 2, 'polarity': 1, 'source': 1, 'demand': 63, 'pulsewidth': 500, 'dwell': 500, 'recovery': 60, 'enabled': 1}\n"
     ]
    }
   ],
   "source": [
    "# Download status from device\n",
    "success, d128 = controller.D128ctrl('status', d128)\n",
    "print(d128)  # Display the current state"
   ]
  },
  {
   "cell_type": "code",
   "execution_count": 21,
   "metadata": {},
   "outputs": [
    {
     "name": "stdout",
     "output_type": "stream",
     "text": [
      "initilization successful ;)\n"
     ]
    }
   ],
   "source": [
    "### Update my notebook with I do changes to my class \n",
    "import importlib\n",
    "import API.ds8r_controller\n",
    "importlib.reload(API.ds8r_controller)\n",
    "###\n",
    "\n",
    "from API.ds8r_controller import DS8RController\n",
    "\n",
    "# Simple example program to demonstrate control of DS8R\n",
    "\n",
    "stimulator = DS8RController()\n",
    "\n",
    "stimulator.Load()\n",
    "stimulator.Initialize()"
   ]
  },
  {
   "cell_type": "code",
   "execution_count": 33,
   "metadata": {},
   "outputs": [
    {
     "name": "stdout",
     "output_type": "stream",
     "text": [
      "ERROR! couldnt update the D188. retError =  100002  and retAPIError =  0\n",
      "ERROR! couldnt update the D188. retError =  100002  and retAPIError =  0\n",
      "ERROR! couldnt update the D188. retError =  100002  and retAPIError =  0\n",
      "ERROR! couldnt update the D188. retError =  100002  and retAPIError =  0\n",
      "ERROR! couldnt update the D188. retError =  100002  and retAPIError =  0\n",
      "ERROR! couldnt update the D188. retError =  100002  and retAPIError =  0\n",
      "ERROR! couldnt update the D188. retError =  100002  and retAPIError =  0\n"
     ]
    }
   ],
   "source": [
    "stimulator.Cmd('mode', 'Bi-phasic')\n",
    "stimulator.Cmd('source', 'Internal')\n",
    "stimulator.Cmd('polarity', 'Negative')\n",
    "stimulator.Cmd('demand', 6)\n",
    "stimulator.Cmd('pulsewidth', 50)\n",
    "stimulator.Cmd('dwell', 10)\n",
    "stimulator.Cmd('recovery', 80)"
   ]
  },
  {
   "cell_type": "code",
   "execution_count": 101,
   "metadata": {},
   "outputs": [
    {
     "ename": "NameError",
     "evalue": "name 'stimulator' is not defined",
     "output_type": "error",
     "traceback": [
      "\u001b[1;31m---------------------------------------------------------------------------\u001b[0m",
      "\u001b[1;31mNameError\u001b[0m                                 Traceback (most recent call last)",
      "Cell \u001b[1;32mIn[101], line 1\u001b[0m\n\u001b[1;32m----> 1\u001b[0m \u001b[43mstimulator\u001b[49m\u001b[38;5;241m.\u001b[39mClose()\n",
      "\u001b[1;31mNameError\u001b[0m: name 'stimulator' is not defined"
     ]
    }
   ],
   "source": [
    "stimulator.Close()"
   ]
  },
  {
   "cell_type": "code",
   "execution_count": 3,
   "metadata": {},
   "outputs": [
    {
     "name": "stdout",
     "output_type": "stream",
     "text": [
      "{'mode': 2, 'polarity': 1, 'source': 1, 'demand': 40, 'pulsewidth': 500, 'dwell': 500, 'recovery': 60, 'enabled': 1}\n"
     ]
    },
    {
     "data": {
      "text/plain": [
       "True"
      ]
     },
     "execution_count": 3,
     "metadata": {},
     "output_type": "execute_result"
    }
   ],
   "source": [
    "    # Set paramters\n",
    "success, d128 = controller.D128ctrl('mode', d128, 'Bi-phasic')\n",
    "success, d128 = controller.D128ctrl('polarity', d128, 'Positive')\n",
    "success, d128 = controller.D128ctrl('source', d128, 'Internal')\n",
    "success, d128 = controller.D128ctrl('demand', d128, 4)\n",
    "success, d128 = controller.D128ctrl('pulsewidth', d128, 500)\n",
    "success, d128 = controller.D128ctrl('dwell', d128, 500)\n",
    "success, d128 = controller.D128ctrl('recovery', d128, 60)\n",
    "\n",
    "# Enable the device\n",
    "success, d128 = controller.D128ctrl('enable', d128, True)\n",
    "\n",
    "# Upload all parameters to the device\n",
    "success = controller.D128ctrl('upload', d128)\n",
    "\n",
    "# Download status from device\n",
    "success, d128 = controller.D128ctrl('status', d128)\n",
    "\n",
    "controller.Close()"
   ]
  },
  {
   "cell_type": "code",
   "execution_count": null,
   "metadata": {},
   "outputs": [
    {
     "name": "stdout",
     "output_type": "stream",
     "text": [
      "D188 load successful :)\n",
      "D188 init successfully\n",
      "D188 channel update successfully\n",
      "{'D188_Mode': 1, 'D188_Select': 128, 'D188_Indicator': 1, 'D188_Delay': 10, 'D188_DeviceID': 127, 'D188_VersionID': 258, 'D188_Error': 0, 'DeviceCount': 1}\n",
      "D188 DLL unloaded successfully.\n"
     ]
    }
   ],
   "source": [
    "### Update my notebook with I do changes to my class \n",
    "import importlib\n",
    "import API.d188_controller\n",
    "importlib.reload(API.d188_controller)\n",
    "###\n",
    "import time\n",
    "from API.d188_controller import D188Controller\n",
    "\n",
    "Selector = D188Controller()\n",
    "Selector.Load()\n",
    "Selector.Initialize()\n",
    "time.sleep(0.1)\n",
    "Selector.SetMode('USB')\n",
    "time.sleep(0.1)\n",
    "Selector.SetIndicator('ON')\n",
    "time.sleep(0.1)\n",
    "Selector.SetDelay(1) # can go as short as 0.1ms, but now 1 for safety\n",
    "time.sleep(0.1)\n",
    "Selector.SetChannel(8)\n",
    "time.sleep(0.1)\n",
    "Selector.GetState()\n",
    "time.sleep(0.1)\n",
    "Selector.Close\n",
    "time.sleep(0.1)\n",
    "Selector.Unload()"
   ]
  },
  {
   "cell_type": "code",
   "execution_count": 14,
   "metadata": {},
   "outputs": [
    {
     "name": "stdout",
     "output_type": "stream",
     "text": [
      "D188 DLL unloaded successfully.\n"
     ]
    }
   ],
   "source": [
    "Selector.Unload()"
   ]
  },
  {
   "cell_type": "code",
   "execution_count": null,
   "metadata": {},
   "outputs": [
    {
     "name": "stdout",
     "output_type": "stream",
     "text": [
      "{'D188_Mode': 1, 'D188_Select': 2, 'D188_Indicator': 1, 'D188_Delay': 10, 'D188_DeviceID': 127, 'D188_VersionID': 258, 'D188_Error': 0, 'DeviceCount': 1}\n",
      "{'D188_Mode': 1, 'D188_Select': 2, 'D188_Indicator': 1, 'D188_Delay': 10, 'D188_DeviceID': 127, 'D188_VersionID': 258, 'D188_Error': 0, 'DeviceCount': 1}\n",
      "D188 channel update successfully\n",
      "{'D188_Mode': 1, 'D188_Select': 64, 'D188_Indicator': 1, 'D188_Delay': 10, 'D188_DeviceID': 127, 'D188_VersionID': 258, 'D188_Error': 0, 'DeviceCount': 1}\n"
     ]
    },
    {
     "data": {
      "text/plain": [
       "{'D188_Mode': 1,\n",
       " 'D188_Select': 64,\n",
       " 'D188_Indicator': 1,\n",
       " 'D188_Delay': 10,\n",
       " 'D188_DeviceID': 127,\n",
       " 'D188_VersionID': 258,\n",
       " 'D188_Error': 0,\n",
       " 'DeviceCount': 1}"
      ]
     },
     "execution_count": 121,
     "metadata": {},
     "output_type": "execute_result"
    }
   ],
   "source": [
    "Selector.SetMode('USB')\n",
    "Selector.SetIndicator('ON')\n",
    "Selector.SetDelay(1) # can go as short as 0.1ms, but now 1 for safety\n",
    "Selector.SetChannel(7)\n",
    "Selector.GetState()"
   ]
  },
  {
   "cell_type": "code",
   "execution_count": 122,
   "metadata": {},
   "outputs": [
    {
     "name": "stdout",
     "output_type": "stream",
     "text": [
      "D188 closed successfully\n"
     ]
    }
   ],
   "source": [
    "\n",
    "Selector.Close()"
   ]
  },
  {
   "cell_type": "code",
   "execution_count": null,
   "metadata": {},
   "outputs": [
    {
     "name": "stdout",
     "output_type": "stream",
     "text": [
      "D188 init successfully\n",
      "ERROR! couldnt update the D188. retError =  100021  and retAPIError =  0\n",
      "D188 channel update successfully\n",
      "D188 closed successfully\n"
     ]
    }
   ],
   "source": [
    "Selector.Initialize()\n",
    "Selector.SetChannel(1)\n",
    "Selector.Close()"
   ]
  },
  {
   "cell_type": "code",
   "execution_count": null,
   "metadata": {},
   "outputs": [],
   "source": [
    "    def stimulation_strategy_1(self):\n",
    "        '''\n",
    "        Finite State Machine of the experiment\n",
    "        This function dynamically decides on the next stimulation point\n",
    "        '''\n",
    "        if self.exp_finished:\n",
    "            self.close_window()\n",
    "\n",
    "        if self.exp_count == 0:\n",
    "            self.experiment_step = 'find minimum detection threashold'\n",
    "            self.count_inv_points = 0\n",
    "            self.list_inv_points = []\n",
    "            self.stimuli =  self.variable_param['start'] # {variable, value}\n",
    "        elif self.exp_count == 1: \n",
    "            self.feelSomething_1 = self.CB_1.currentText() # During each button press read feedback from stimulation  t-1\n",
    "            self.where_1 = self.CB_2.currentText()\n",
    "            self.pain_1 = self.SB_3.value()\n",
    "            self.stimuli = self.stimuli +  self.variable_param['step']\n",
    "        else:\n",
    "            self.feelSomething_2 = self.feelSomething_1 # Save stimulation of t-2 to detect inversion points\n",
    "            self.where_2 = self.where_1\n",
    "            self.pain_2 = self.pain_1\n",
    "\n",
    "            self.feelSomething_1 = self.CB_1.currentText() # Read stimulation of t-1\n",
    "            self.where_1 = self.CB_2.currentText()\n",
    "            self.pain_1 = self.SB_3.value()\n",
    "\n",
    "            ### Step 1 ###\n",
    "            if self.experiment_step == 'find minimum detection threashold':\n",
    "                if self.count_inv_points == algo_settings['nbInversionPoints']:\n",
    "                    self.min_per_channel.append(self.calculate_avg(self.list_inv_points)) # Calculate min poin for this channel\n",
    "                    self.list_inv_points = []\n",
    "                    self.count_inv_points = 0\n",
    "                    self.experiment_step = 'find maximum threshold'\n",
    "                    self.stimuli = self.stimuli +  self.variable_param['step']      # start incrementing to go to maximum\n",
    "                else:\n",
    "                    if self.feelSomething_1 == 'Yes' and self.where_1 == 'Referred area':\n",
    "                        if self.feelSomething_2 == 'No' or (self.feelSomething_2 == 'Yes' and self.where_2 == 'Near Electrodes'):\n",
    "                            self.count_inv_points += 1\n",
    "                            self.list_inv_points.append(self.stimuli)\n",
    "                            self.stimuli = self.stimuli -  self.variable_param['step']  # Decrement\n",
    "                    else:\n",
    "                        self.stimuli = self.stimuli +  self.variable_param['step']      # Increment\n",
    "\n",
    "            ### Step 2 ###\n",
    "            elif self.experiment_step == 'find maximum threshold':\n",
    "                if self.count_inv_points == algo_settings['nbInversionPoints']:\n",
    "                    self.max_per_channel.append(self.calculate_avg(self.list_inv_points)) # Calculate min poin for this channel\n",
    "                    self.list_inv_points = []\n",
    "                    self.count_inv_points = 0\n",
    "                    self.experiment_step = 'psychofisical functions'\n",
    "                else:\n",
    "                    if self.pain_1 >= 7:\n",
    "                        if self.pain_2 < 7:\n",
    "                            self.count_inv_points += 1\n",
    "                            self.list_inv_points.append(self.stimuli)\n",
    "                        self.stimuli = self.stimuli -  self.variable_param['step']  # Decrement\n",
    "                    else:\n",
    "                        self.stimuli = self.stimuli +  self.variable_param['step']      # Increment\n",
    "\n",
    "            ### Step 3 ###\n",
    "            elif self.expriment_step == 'psychofisical functions':\n",
    "                self.generate_array()\n",
    "\n",
    "    def generate_array(self, min, max, step, repetition):\n",
    "        '''\n",
    "        Generate array with the specified step\n",
    "        '''\n",
    "        self.nb_points = int( ( max - min ) / step + 1) \n",
    "        print(self.nb_points)\n",
    "        return [min + i * step for i in range(self.nb_points)]   "
   ]
  }
 ],
 "metadata": {
  "kernelspec": {
   "display_name": ".venv",
   "language": "python",
   "name": "python3"
  },
  "language_info": {
   "codemirror_mode": {
    "name": "ipython",
    "version": 3
   },
   "file_extension": ".py",
   "mimetype": "text/x-python",
   "name": "python",
   "nbconvert_exporter": "python",
   "pygments_lexer": "ipython3",
   "version": "3.11.9"
  }
 },
 "nbformat": 4,
 "nbformat_minor": 2
}
